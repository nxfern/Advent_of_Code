{
 "cells": [
  {
   "cell_type": "markdown",
   "id": "9b01af22-a9ba-4f4f-aa81-a116b7d739e0",
   "metadata": {},
   "source": [
    "# Advent of Code 2022"
   ]
  },
  {
   "cell_type": "code",
   "execution_count": 1,
   "id": "623d5131-8362-493c-8306-d8dcfeb39daf",
   "metadata": {
    "tags": []
   },
   "outputs": [],
   "source": [
    "import requests\n",
    "import re"
   ]
  },
  {
   "cell_type": "markdown",
   "id": "3ab50554-904e-40de-8428-1517495875c7",
   "metadata": {},
   "source": [
    "## Day 1"
   ]
  },
  {
   "cell_type": "code",
   "execution_count": 53,
   "id": "412047fc-67fc-4830-9c12-0900b5e16543",
   "metadata": {
    "tags": []
   },
   "outputs": [],
   "source": [
    "data = requests.get('https://raw.githubusercontent.com/nxfern/Advent_of_Code/main/2022_Day1_Input').text.split('\\n\\n')\n",
    "#data.pop()"
   ]
  },
  {
   "cell_type": "code",
   "execution_count": 59,
   "id": "8ae82513-9365-4456-b869-4caeaa21ed50",
   "metadata": {
    "tags": []
   },
   "outputs": [
    {
     "data": {
      "text/plain": [
       "199172"
      ]
     },
     "execution_count": 59,
     "metadata": {},
     "output_type": "execute_result"
    }
   ],
   "source": [
    "# [x.split('\\n') for x in data]\n",
    "sum(sorted([sum([int(x) for x in x.split('\\n') if x != '']) for x in data])[-3:])"
   ]
  },
  {
   "cell_type": "markdown",
   "id": "f5325bb5-0ff8-40c6-8baa-2484ff0d4ef7",
   "metadata": {},
   "source": [
    "## Day 2\n",
    "### Part 1"
   ]
  },
  {
   "cell_type": "code",
   "execution_count": 4,
   "id": "ad091e64-8be3-44ee-b391-5c86382f7517",
   "metadata": {
    "tags": []
   },
   "outputs": [
    {
     "data": {
      "text/plain": [
       "''"
      ]
     },
     "execution_count": 4,
     "metadata": {},
     "output_type": "execute_result"
    }
   ],
   "source": [
    "data = requests.get('https://raw.githubusercontent.com/nxfern/Advent_of_Code/main/2022_Day2_%20Input').text.split('\\n')\n",
    "data.pop()"
   ]
  },
  {
   "cell_type": "code",
   "execution_count": 74,
   "id": "2327f456-08b6-4fce-b259-c8392b472665",
   "metadata": {
    "tags": []
   },
   "outputs": [
    {
     "data": {
      "text/plain": [
       "13052"
      ]
     },
     "execution_count": 74,
     "metadata": {},
     "output_type": "execute_result"
    }
   ],
   "source": [
    "counter = 0\n",
    "win = ['A Y', 'B Z', 'C X']\n",
    "loss = ['A Z', 'B X', 'C Y']\n",
    "tie = ['A X', 'B Y', 'C Z']\n",
    "\n",
    "# A for Rock, B for Paper, and C for Scissors\n",
    "# X for Rock, Y for Paper, and Z for Scissors\n",
    "\n",
    "for rounds in data:\n",
    "    if rounds[2] == 'X':\n",
    "        counter += 1\n",
    "    if rounds[2] == 'Y':\n",
    "        counter += 2\n",
    "    if rounds[2] == 'Z':\n",
    "        counter += 3\n",
    "    if rounds in win:\n",
    "        counter += 6\n",
    "    if rounds in tie:\n",
    "        counter += 3\n",
    "counter"
   ]
  },
  {
   "cell_type": "markdown",
   "id": "0040be6e-51df-499f-99fa-872d3bae7eab",
   "metadata": {},
   "source": [
    "### Part 2"
   ]
  },
  {
   "cell_type": "code",
   "execution_count": 70,
   "id": "596fedf4-d34e-424f-8b0e-65a7336c671a",
   "metadata": {},
   "outputs": [
    {
     "data": {
      "text/plain": [
       "13693"
      ]
     },
     "execution_count": 70,
     "metadata": {},
     "output_type": "execute_result"
    }
   ],
   "source": [
    "# X means you need to lose, Y means you need to end the round in a draw, and Z means you need to win\n",
    "cheat = {'A X': 3, 'A Y': 4, 'A Z': 8,\n",
    "         'B X': 1, 'B Y': 5, 'B Z': 9,\n",
    "         'C X': 2, 'C Y': 6, 'C Z': 7}\n",
    "\n",
    "sum(cheat[x] for x in data)    "
   ]
  },
  {
   "cell_type": "markdown",
   "id": "0fe14094-4506-453e-971c-6b3dbfa1e421",
   "metadata": {},
   "source": [
    "## Day 3\n",
    "### Part 1"
   ]
  },
  {
   "cell_type": "code",
   "execution_count": 21,
   "id": "cce206c0-8f4c-4143-8d15-a6099b949d1c",
   "metadata": {
    "tags": []
   },
   "outputs": [
    {
     "data": {
      "text/plain": [
       "''"
      ]
     },
     "execution_count": 21,
     "metadata": {},
     "output_type": "execute_result"
    }
   ],
   "source": [
    "data = requests.get('https://raw.githubusercontent.com/nxfern/Advent_of_Code/main/2022_Day3_Input').text.split('\\n')\n",
    "data.pop()"
   ]
  },
  {
   "cell_type": "code",
   "execution_count": 22,
   "id": "3d38507f-9552-40b4-9072-7bbd3adf3b04",
   "metadata": {
    "tags": []
   },
   "outputs": [
    {
     "data": {
      "text/plain": [
       "['NJvhJcQWTJWTNTFFMTqqGqfTmB',\n",
       " 'VwVzPldRZVLVRmfsvfjvqfmm',\n",
       " 'ZDPDHZHVcvDhbvnv',\n",
       " 'FHHwHBzzVCWWmmCzCPrVmgBwbLTtRFFbbbttRGRLjTcLpbbT',\n",
       " 'vhZZvdsNSdSMdNvjncppCLcLnGnj',\n",
       " 'CDZZsNZMZqdNSdlNZCqrzPHDzgrgzwVVWwmwwm']"
      ]
     },
     "execution_count": 22,
     "metadata": {},
     "output_type": "execute_result"
    }
   ],
   "source": [
    "data[:6]"
   ]
  },
  {
   "cell_type": "code",
   "execution_count": 23,
   "id": "a723479b-0f4e-4e3b-b459-1875d3ab1827",
   "metadata": {
    "tags": []
   },
   "outputs": [],
   "source": [
    "chars = list(range(97, 123))\n",
    "chars.extend(list(range(65,91)))\n",
    "key = [chr(x) for x in chars]"
   ]
  },
  {
   "cell_type": "code",
   "execution_count": 15,
   "id": "a0286c21-e57c-4bba-ab95-c79c9e54c43e",
   "metadata": {
    "tags": []
   },
   "outputs": [
    {
     "data": {
      "text/plain": [
       "7742"
      ]
     },
     "execution_count": 15,
     "metadata": {},
     "output_type": "execute_result"
    }
   ],
   "source": [
    "letters = []\n",
    "\n",
    "for compartment in data:\n",
    "    hlen = len(compartment)//2\n",
    "    half1 = compartment[:hlen]\n",
    "    half2 = compartment[hlen:]\n",
    "    \n",
    "    for letter in half1:\n",
    "        if letter in half2:\n",
    "            temp = letter\n",
    "    letters.append(temp)\n",
    "\n",
    "result = 0\n",
    "for character in letters:\n",
    "    for num, letter in enumerate(key, 1):\n",
    "        if character == letter:\n",
    "            result += num\n",
    "result"
   ]
  },
  {
   "cell_type": "code",
   "execution_count": 31,
   "id": "e46c38e8-6f1e-486c-888c-983b5eef9c49",
   "metadata": {
    "tags": []
   },
   "outputs": [],
   "source": [
    "def process_one_row(string):\n",
    "    hlen = len(string)//2\n",
    "    half1 = string[:hlen]\n",
    "    half2 = string[hlen:]\n",
    "    \n",
    "    common_letter = list(set(half1) & set(half2))[0]\n",
    "    \n",
    "    letters = list(range(97, 123))\n",
    "    letters.extend(list(range(65, 91)))\n",
    "    \n",
    "    priority = {chr(y):x for x, y in enumerate(letters, 1)}\n",
    "    \n",
    "    return priority[common_letter]"
   ]
  },
  {
   "cell_type": "code",
   "execution_count": 32,
   "id": "8c6355b7-1297-4f2c-a09b-e6006ed642b7",
   "metadata": {
    "tags": []
   },
   "outputs": [
    {
     "data": {
      "text/plain": [
       "7742"
      ]
     },
     "execution_count": 32,
     "metadata": {},
     "output_type": "execute_result"
    }
   ],
   "source": [
    "sum(list(map(process_one_row, data)))"
   ]
  },
  {
   "cell_type": "code",
   "execution_count": 33,
   "id": "ed65fb04-1c07-4bf0-b997-29b1a59d9f8e",
   "metadata": {
    "tags": []
   },
   "outputs": [],
   "source": [
    "data2 = [data[x:x+3] for x in range(0, len(data), 3)]"
   ]
  },
  {
   "cell_type": "code",
   "execution_count": 37,
   "id": "bf1b5d33-9437-46fb-b508-6391774b43bf",
   "metadata": {
    "tags": []
   },
   "outputs": [],
   "source": [
    "def rucksacks(string):\n",
    "    common_letter = list(set(string[0]) & set(string[1]) & set(string[2]))[0]\n",
    "    \n",
    "    ascii_codes = list(range(97, 123))\n",
    "    ascii_codes.extend(list(range(65, 91)))\n",
    "    \n",
    "    priority = {chr(y):x for x, y in enumerate(ascii_codes, 1)}\n",
    "    \n",
    "    return priority[common_letter]"
   ]
  },
  {
   "cell_type": "code",
   "execution_count": 36,
   "id": "887872db-da75-47bb-85f1-335546435788",
   "metadata": {
    "tags": []
   },
   "outputs": [
    {
     "data": {
      "text/plain": [
       "2276"
      ]
     },
     "execution_count": 36,
     "metadata": {},
     "output_type": "execute_result"
    }
   ],
   "source": [
    "sum(list(map(rucksacks, data2)))"
   ]
  },
  {
   "cell_type": "markdown",
   "id": "ad0cd2b0-c087-451d-b7d6-838f0d21c673",
   "metadata": {},
   "source": [
    "### Part 2"
   ]
  },
  {
   "cell_type": "code",
   "execution_count": 124,
   "id": "11e4cc0f-1a7b-4a18-b98a-6e593c769cbc",
   "metadata": {
    "tags": []
   },
   "outputs": [],
   "source": [
    "data2 = [data[x:x+3] for x in range(0, len(data), 3)]"
   ]
  },
  {
   "cell_type": "code",
   "execution_count": 127,
   "id": "13228146-53d0-4564-a0d9-c103ac119172",
   "metadata": {
    "tags": []
   },
   "outputs": [
    {
     "data": {
      "text/plain": [
       "2276"
      ]
     },
     "execution_count": 127,
     "metadata": {},
     "output_type": "execute_result"
    }
   ],
   "source": [
    "letters = []\n",
    "\n",
    "for group in data2:\n",
    "    for letter in group[0]:\n",
    "        if letter in group[1] and letter in group[2]:\n",
    "            temp = letter\n",
    "    letters.append(temp)\n",
    "\n",
    "result = 0\n",
    "for character in letters:\n",
    "    for num, letter in enumerate(key, 1):\n",
    "        if character == letter:\n",
    "            result += num\n",
    "result"
   ]
  },
  {
   "cell_type": "markdown",
   "id": "60ad39e8-f66e-4997-bb72-0953383c14e4",
   "metadata": {},
   "source": [
    "## Day 4\n",
    "### Part 1"
   ]
  },
  {
   "cell_type": "code",
   "execution_count": 138,
   "id": "d648f139-ed98-4104-b9b2-7c3bd01a4344",
   "metadata": {
    "tags": []
   },
   "outputs": [
    {
     "data": {
      "text/plain": [
       "''"
      ]
     },
     "execution_count": 138,
     "metadata": {},
     "output_type": "execute_result"
    }
   ],
   "source": [
    "data = requests.get('https://raw.githubusercontent.com/nxfern/Advent_of_Code/main/2022_Day4_Input').text.split('\\n')\n",
    "data.pop()"
   ]
  },
  {
   "cell_type": "code",
   "execution_count": 140,
   "id": "8d5ce219-fdd0-474e-9ab9-b4d038e80a2a",
   "metadata": {
    "tags": []
   },
   "outputs": [
    {
     "data": {
      "text/plain": [
       "['2-9,9-51', '33-51,45-73', '28-29,29-93']"
      ]
     },
     "execution_count": 140,
     "metadata": {},
     "output_type": "execute_result"
    }
   ],
   "source": [
    "data[:3]"
   ]
  },
  {
   "cell_type": "code",
   "execution_count": 158,
   "id": "84bff69a-a63d-4d14-b949-d983eb39a9c1",
   "metadata": {
    "tags": []
   },
   "outputs": [],
   "source": [
    "def ranges(r1, r2):\n",
    "    range1 = range(int(r1[0]), int(r1[1])+1)\n",
    "    range2 = range(int(r2[0]), int(r2[1])+1)\n",
    "    \n",
    "    if min(range1) >= min(range2) and max(range1) <= max(range2):\n",
    "        return 1\n",
    "    elif min(range2) >= min(range1) and max(range2) <= max(range1):\n",
    "        return 1\n",
    "    else:\n",
    "        return 0"
   ]
  },
  {
   "cell_type": "code",
   "execution_count": 172,
   "id": "5c7a500e-ec32-46bb-a4bd-8e94f1d333f2",
   "metadata": {
    "tags": []
   },
   "outputs": [
    {
     "data": {
      "text/plain": [
       "450"
      ]
     },
     "execution_count": 172,
     "metadata": {},
     "output_type": "execute_result"
    }
   ],
   "source": [
    "total = 0\n",
    "\n",
    "for x in data:\n",
    "    a1 = x.split(',')[0].split('-')\n",
    "    a2 = x.split(',')[1].split('-')\n",
    "    \n",
    "    total += ranges(a1, a2)\n",
    "\n",
    "total"
   ]
  },
  {
   "cell_type": "markdown",
   "id": "9255a5db-45a1-4b0d-a7c8-5dc44d607eed",
   "metadata": {},
   "source": [
    "### Part 2"
   ]
  },
  {
   "cell_type": "code",
   "execution_count": 195,
   "id": "9ff363df-7c9c-402a-8499-248ed242bc45",
   "metadata": {
    "tags": []
   },
   "outputs": [],
   "source": [
    "def ranges2(r1, r2):\n",
    "    range1 = range(int(r1[0]), int(r1[1])+1)\n",
    "    range2 = range(int(r2[0]), int(r2[1])+1)\n",
    "\n",
    "    if min(range1) in range2:\n",
    "        return 1\n",
    "    elif max(range1) in range2:\n",
    "        return 1\n",
    "    elif min(range2) in range1:\n",
    "        return 1\n",
    "    elif max(range2) in range1:\n",
    "        return 1\n",
    "    else:\n",
    "        return 0"
   ]
  },
  {
   "cell_type": "code",
   "execution_count": 196,
   "id": "051a3680-018b-436c-9070-8a14b47fa7da",
   "metadata": {
    "tags": []
   },
   "outputs": [
    {
     "data": {
      "text/plain": [
       "837"
      ]
     },
     "execution_count": 196,
     "metadata": {},
     "output_type": "execute_result"
    }
   ],
   "source": [
    "total = 0\n",
    "\n",
    "for x in data:\n",
    "    a1 = x.split(',')[0].split('-')\n",
    "    a2 = x.split(',')[1].split('-')\n",
    "    \n",
    "    total += ranges2(a1, a2)\n",
    "\n",
    "total"
   ]
  },
  {
   "cell_type": "markdown",
   "id": "91a99956-458a-4b64-9c5f-654a1d432ced",
   "metadata": {},
   "source": [
    "## Day 5\n",
    "### Part 1"
   ]
  },
  {
   "cell_type": "code",
   "execution_count": 11,
   "id": "e835f6fa-0185-45d1-8782-4b348ceb6d39",
   "metadata": {},
   "outputs": [],
   "source": [
    "data = requests.get('https://raw.githubusercontent.com/nxfern/Advent_of_Code/main/2022_Day5_Input').text.split('\\n')[:-1]"
   ]
  },
  {
   "cell_type": "code",
   "execution_count": 24,
   "id": "c55217e9-0e69-4d46-9eb1-acc0f7d4b5af",
   "metadata": {
    "tags": []
   },
   "outputs": [
    {
     "data": {
      "text/plain": [
       "['[S]                 [T] [Q]        ',\n",
       " '[L]             [B] [M] [P]     [T]',\n",
       " '[F]     [S]     [Z] [N] [S]     [R]',\n",
       " '[Z] [R] [N]     [R] [D] [F]     [V]',\n",
       " '[D] [Z] [H] [J] [W] [G] [W]     [G]',\n",
       " '[B] [M] [C] [F] [H] [Z] [N] [R] [L]',\n",
       " '[R] [B] [L] [C] [G] [J] [L] [Z] [C]',\n",
       " '[H] [T] [Z] [S] [P] [V] [G] [M] [M]']"
      ]
     },
     "execution_count": 24,
     "metadata": {},
     "output_type": "execute_result"
    }
   ],
   "source": [
    "data[:8]"
   ]
  },
  {
   "cell_type": "code",
   "execution_count": 103,
   "id": "2399d43b-9900-41b5-8a35-48bc4aff9a8d",
   "metadata": {
    "tags": []
   },
   "outputs": [],
   "source": [
    "crates = data[::-1][504:]"
   ]
  },
  {
   "cell_type": "code",
   "execution_count": 122,
   "id": "29fd6a8b-8e3c-4890-927d-0ec4c8eeba43",
   "metadata": {
    "tags": []
   },
   "outputs": [
    {
     "data": {
      "text/plain": [
       "'RNZLFZSJH'"
      ]
     },
     "execution_count": 122,
     "metadata": {},
     "output_type": "execute_result"
    }
   ],
   "source": [
    "transposed_data = list(map(list, zip(*crates)))\n",
    "stacks = []\n",
    "filters = ['[',']',' ']\n",
    "\n",
    "for column in transposed_data:\n",
    "    stack = [crate for crate in column if crate not in filters]\n",
    "    if len(stack) > 1:\n",
    "        stacks.append(stack)\n",
    "\n",
    "moves = [x.split()[1::2] for x in data[10:]]\n",
    "moves = [[int(y) for y in x] for x in moves]\n",
    "moves[:10]\n",
    "\n",
    "for move in moves:\n",
    "    index1 = move[1] - 1\n",
    "    index2 = move[2] - 1\n",
    "    boxes = move[0]\n",
    "    \n",
    "    for box in range(boxes):\n",
    "        stacks[index2].extend(stacks[index1].pop())\n",
    "\n",
    "''.join([x[-1] for x in stacks])"
   ]
  },
  {
   "cell_type": "markdown",
   "id": "6d53f219-ce66-460e-9eb4-65951d0af202",
   "metadata": {},
   "source": [
    "### Part 2"
   ]
  },
  {
   "cell_type": "code",
   "execution_count": 123,
   "id": "ee43ec82-15dd-47b0-8a55-d9a9eb0867b6",
   "metadata": {
    "tags": []
   },
   "outputs": [
    {
     "data": {
      "text/plain": [
       "'CNSFCGJSM'"
      ]
     },
     "execution_count": 123,
     "metadata": {},
     "output_type": "execute_result"
    }
   ],
   "source": [
    "transposed_data = list(map(list, zip(*crates)))\n",
    "stacks = []\n",
    "filters = ['[',']',' ']\n",
    "\n",
    "for column in transposed_data:\n",
    "    stack = [crate for crate in column if crate not in filters]\n",
    "    if len(stack) > 1:\n",
    "        stacks.append(stack)\n",
    "        \n",
    "for move in moves:\n",
    "    index1 = move[1] - 1\n",
    "    index2 = move[2] - 1\n",
    "    boxes = len(stacks[index1]) - move[0]\n",
    "    \n",
    "    stacks[index2].extend(stacks[index1][boxes:])\n",
    "    del stacks[index1][boxes:]\n",
    "\n",
    "''.join([x[-1] for x in stacks])"
   ]
  },
  {
   "cell_type": "markdown",
   "id": "7d526c0b-5bc5-4746-9ba7-0e42176beaf3",
   "metadata": {},
   "source": [
    "## Day 6\n",
    "### Part 1"
   ]
  },
  {
   "cell_type": "code",
   "execution_count": 165,
   "id": "6b52b021-2548-4e2e-a771-faec784b21a0",
   "metadata": {
    "tags": []
   },
   "outputs": [],
   "source": [
    "data = requests.get('https://raw.githubusercontent.com/nxfern/Advent_of_Code/main/2022_Day6_Input').text[:-1]"
   ]
  },
  {
   "cell_type": "code",
   "execution_count": 166,
   "id": "4ac095d8-1dcd-4804-af96-c5b799ca5b6a",
   "metadata": {
    "tags": []
   },
   "outputs": [
    {
     "data": {
      "text/plain": [
       "1361"
      ]
     },
     "execution_count": 166,
     "metadata": {},
     "output_type": "execute_result"
    }
   ],
   "source": [
    "marker = []\n",
    "\n",
    "for counter, letter in enumerate(data, 1):\n",
    "    if letter not in marker:\n",
    "        marker.append(letter)\n",
    "    else:\n",
    "        del marker[:marker.index(letter)+1]\n",
    "        marker.append(letter)\n",
    "    \n",
    "    if len(marker) > 3:\n",
    "        index = counter\n",
    "        break\n",
    "index"
   ]
  },
  {
   "cell_type": "markdown",
   "id": "26334050-1f5f-40c2-b01b-dc669d81075f",
   "metadata": {},
   "source": [
    "### Part 2"
   ]
  },
  {
   "cell_type": "code",
   "execution_count": 167,
   "id": "527e91d2-3669-4746-9d07-bf394693eac5",
   "metadata": {
    "tags": []
   },
   "outputs": [
    {
     "data": {
      "text/plain": [
       "3263"
      ]
     },
     "execution_count": 167,
     "metadata": {},
     "output_type": "execute_result"
    }
   ],
   "source": [
    "marker = []\n",
    "\n",
    "for counter, letter in enumerate(data, 1):\n",
    "    if letter not in marker:\n",
    "        marker.append(letter)\n",
    "    else:\n",
    "        del marker[:marker.index(letter)+1]\n",
    "        marker.append(letter)\n",
    "    \n",
    "    if len(marker) > 13:\n",
    "        index = counter\n",
    "        break\n",
    "index"
   ]
  },
  {
   "cell_type": "markdown",
   "id": "39abc788-86bc-475f-bd01-a07a3093c8aa",
   "metadata": {},
   "source": [
    "## Day 7\n",
    "### Part 1"
   ]
  },
  {
   "cell_type": "code",
   "execution_count": 2,
   "id": "162e26b2-6eb4-4d5e-b22e-1c8988d9ded8",
   "metadata": {
    "tags": []
   },
   "outputs": [],
   "source": [
    "data = requests.get('https://raw.githubusercontent.com/nxfern/Advent_of_Code/main/2022_Day7_Input').text.split('\\n')[:-1]"
   ]
  },
  {
   "cell_type": "code",
   "execution_count": 3,
   "id": "927f3312-9127-4742-9b88-1326c6f02fe0",
   "metadata": {
    "tags": []
   },
   "outputs": [
    {
     "data": {
      "text/plain": [
       "['$ cd /',\n",
       " '$ ls',\n",
       " 'dir bntdgzs',\n",
       " '179593 cjw.jgc',\n",
       " '110209 grbwdwsm.znn',\n",
       " 'dir hsswswtq',\n",
       " 'dir jdfwmhg',\n",
       " 'dir jlcbpsr',\n",
       " '70323 qdtbvqjj',\n",
       " '48606 qdtbvqjj.zdg',\n",
       " 'dir tvcr',\n",
       " 'dir vhjbjr',\n",
       " 'dir vvsg',\n",
       " '270523 wpsjfqtn.ljt',\n",
       " '$ cd bntdgzs',\n",
       " '$ ls',\n",
       " '297955 gcwcp',\n",
       " '$ cd ..',\n",
       " '$ cd hsswswtq',\n",
       " '$ ls',\n",
       " 'dir bsjbvff',\n",
       " 'dir dpgvp',\n",
       " '267138 grbwdwsm.znn',\n",
       " 'dir hldgfpvh',\n",
       " 'dir jdfwmhg',\n",
       " 'dir jtgdv',\n",
       " '93274 ptsd.nzh',\n",
       " '268335 qdtbvqjj.dlh',\n",
       " '185530 qdtbvqjj.jrw',\n",
       " 'dir vcbqdj']"
      ]
     },
     "execution_count": 3,
     "metadata": {},
     "output_type": "execute_result"
    }
   ],
   "source": [
    "data[:30]"
   ]
  },
  {
   "cell_type": "code",
   "execution_count": 6,
   "id": "6799251d-4499-4eb0-aae4-faf16da5f51b",
   "metadata": {
    "tags": []
   },
   "outputs": [],
   "source": [
    "directories = []\n",
    "temp = []\n",
    "for num, command in enumerate(data, 1):\n",
    "   \n",
    "    if command == '$ cd ..':\n",
    "        directories.append(temp)\n",
    "        temp = []\n",
    "    \n",
    "    elif num == len(data):\n",
    "        temp.append(command)\n",
    "        directories.append(temp)\n",
    "   \n",
    "    elif ' cd ' in command and num > 1:\n",
    "        directories.append(temp)\n",
    "        temp = []\n",
    "        temp.append(command)\n",
    "    \n",
    "    else:\n",
    "        temp.append(command)\n",
    "\n",
    "directories = [x for x in directories if x != []]"
   ]
  },
  {
   "cell_type": "code",
   "execution_count": 10,
   "id": "b7d6fccb-867f-4438-8ae9-48340e280529",
   "metadata": {
    "tags": []
   },
   "outputs": [
    {
     "data": {
      "text/plain": [
       "[['$ cd /',\n",
       "  '$ ls',\n",
       "  'dir bntdgzs',\n",
       "  '179593 cjw.jgc',\n",
       "  '110209 grbwdwsm.znn',\n",
       "  'dir hsswswtq',\n",
       "  'dir jdfwmhg',\n",
       "  'dir jlcbpsr',\n",
       "  '70323 qdtbvqjj',\n",
       "  '48606 qdtbvqjj.zdg',\n",
       "  'dir tvcr',\n",
       "  'dir vhjbjr',\n",
       "  'dir vvsg',\n",
       "  '270523 wpsjfqtn.ljt']]"
      ]
     },
     "execution_count": 10,
     "metadata": {},
     "output_type": "execute_result"
    }
   ],
   "source": [
    "[x for x in directories if x[0] == '$ cd /']"
   ]
  },
  {
   "cell_type": "code",
   "execution_count": 8,
   "id": "fcd84424-591b-4aa2-b155-0c7cbeca00fe",
   "metadata": {
    "tags": []
   },
   "outputs": [
    {
     "data": {
      "text/plain": [
       "182"
      ]
     },
     "execution_count": 8,
     "metadata": {},
     "output_type": "execute_result"
    }
   ],
   "source": [
    "len(directories)"
   ]
  },
  {
   "cell_type": "code",
   "execution_count": 9,
   "id": "436cc7bf-9c28-4810-b6c9-89af8bb269bf",
   "metadata": {},
   "outputs": [
    {
     "data": {
      "text/plain": [
       "[['$ cd /',\n",
       "  '$ ls',\n",
       "  'dir bntdgzs',\n",
       "  '179593 cjw.jgc',\n",
       "  '110209 grbwdwsm.znn',\n",
       "  'dir hsswswtq',\n",
       "  'dir jdfwmhg',\n",
       "  'dir jlcbpsr',\n",
       "  '70323 qdtbvqjj',\n",
       "  '48606 qdtbvqjj.zdg',\n",
       "  'dir tvcr',\n",
       "  'dir vhjbjr',\n",
       "  'dir vvsg',\n",
       "  '270523 wpsjfqtn.ljt'],\n",
       " ['$ cd bntdgzs', '$ ls', '297955 gcwcp'],\n",
       " ['$ cd hsswswtq',\n",
       "  '$ ls',\n",
       "  'dir bsjbvff',\n",
       "  'dir dpgvp',\n",
       "  '267138 grbwdwsm.znn',\n",
       "  'dir hldgfpvh',\n",
       "  'dir jdfwmhg',\n",
       "  'dir jtgdv',\n",
       "  '93274 ptsd.nzh',\n",
       "  '268335 qdtbvqjj.dlh',\n",
       "  '185530 qdtbvqjj.jrw',\n",
       "  'dir vcbqdj',\n",
       "  'dir wtrsg'],\n",
       " ['$ cd bsjbvff',\n",
       "  '$ ls',\n",
       "  'dir dmnt',\n",
       "  '148799 grbwdwsm.znn',\n",
       "  '324931 hzmqrfc.lsd',\n",
       "  '211089 qdtbvqjj'],\n",
       " ['$ cd dmnt', '$ ls', '221038 zht'],\n",
       " ['$ cd dpgvp', '$ ls', 'dir fzttpjtd', 'dir jdrbwrc', 'dir rwz', 'dir tssm'],\n",
       " ['$ cd fzttpjtd', '$ ls', '149872 jdfwmhg'],\n",
       " ['$ cd jdrbwrc', '$ ls', '149973 hpgg.srm', 'dir ptsd'],\n",
       " ['$ cd ptsd', '$ ls', '2594 twzf.pqq'],\n",
       " ['$ cd rwz', '$ ls', 'dir jdfwmhg', '302808 zzlh'],\n",
       " ['$ cd jdfwmhg', '$ ls', '229683 cdcrgcmh', '218733 nhzt'],\n",
       " ['$ cd tssm', '$ ls', 'dir ptsd', '37272 qfnnrqsh.qvg', '215066 wnvjc.jqf'],\n",
       " ['$ cd ptsd', '$ ls', '24102 bwtbht.dwq', '224035 qdtbvqjj.dmp'],\n",
       " ['$ cd hldgfpvh', '$ ls', '316712 grbwdwsm.znn', '328950 tqvgqjrr'],\n",
       " ['$ cd jdfwmhg',\n",
       "  '$ ls',\n",
       "  '130652 gcwcp',\n",
       "  'dir jdfwmhg',\n",
       "  '215427 lfw.zml',\n",
       "  'dir qdtbvqjj',\n",
       "  '4181 rgsvgssj.qsr'],\n",
       " ['$ cd jdfwmhg',\n",
       "  '$ ls',\n",
       "  'dir bvm',\n",
       "  'dir hsswswtq',\n",
       "  '122279 qznt.jhl',\n",
       "  'dir sjw',\n",
       "  'dir zpfdtl'],\n",
       " ['$ cd bvm',\n",
       "  '$ ls',\n",
       "  '22841 fbcgh.mrp',\n",
       "  'dir hsswswtq',\n",
       "  'dir hstg',\n",
       "  '41317 ndrt',\n",
       "  'dir nvmvghb',\n",
       "  '239316 ptsd',\n",
       "  'dir qtwvdtsp',\n",
       "  '98555 vzh'],\n",
       " ['$ cd hsswswtq',\n",
       "  '$ ls',\n",
       "  'dir ddcjvjgf',\n",
       "  '127104 plwvb.pbj',\n",
       "  'dir ptsd',\n",
       "  'dir qhp',\n",
       "  'dir rjtrhgwh'],\n",
       " ['$ cd ddcjvjgf',\n",
       "  '$ ls',\n",
       "  '135870 bwtbht.dwq',\n",
       "  '81968 gcwcp',\n",
       "  '182253 mrbh.wmc',\n",
       "  '275931 nsrqrts',\n",
       "  '322128 pfpcp'],\n",
       " ['$ cd ptsd', '$ ls', '214981 jsrlsc', 'dir wpbdrcw'],\n",
       " ['$ cd wpbdrcw', '$ ls', '197849 mljfb.ggb', '173586 ptsd'],\n",
       " ['$ cd qhp', '$ ls', '293198 bnrgl'],\n",
       " ['$ cd rjtrhgwh', '$ ls', '224393 clrp.nst'],\n",
       " ['$ cd hstg',\n",
       "  '$ ls',\n",
       "  '51671 gdsfpc',\n",
       "  '209216 hsswswtq',\n",
       "  '97203 jlnr',\n",
       "  'dir thdhg',\n",
       "  '57399 tssm'],\n",
       " ['$ cd thdhg', '$ ls', '201896 jjp.wvw'],\n",
       " ['$ cd nvmvghb',\n",
       "  '$ ls',\n",
       "  '210047 gfcrzgj',\n",
       "  'dir rqjbplv',\n",
       "  'dir rvwd',\n",
       "  '292931 sgwvcqfr.bpq',\n",
       "  'dir vtjd'],\n",
       " ['$ cd rqjbplv', '$ ls', '105204 gcwcp'],\n",
       " ['$ cd rvwd', '$ ls', '66170 jdfwmhg'],\n",
       " ['$ cd vtjd', '$ ls', 'dir ptsd'],\n",
       " ['$ cd ptsd', '$ ls', '300524 bwtbht.dwq'],\n",
       " ['$ cd qtwvdtsp', '$ ls', '289574 wctgtq'],\n",
       " ['$ cd hsswswtq',\n",
       "  '$ ls',\n",
       "  '24935 gcwcp',\n",
       "  'dir jzpbdcmc',\n",
       "  '26834 mljfb.ggb',\n",
       "  '182501 phnmlsjp.pjc',\n",
       "  'dir pttnl',\n",
       "  'dir qdtbvqjj',\n",
       "  'dir vst'],\n",
       " ['$ cd jzpbdcmc', '$ ls', '297521 grbwdwsm.znn', 'dir qwc', 'dir zzswd'],\n",
       " ['$ cd qwc',\n",
       "  '$ ls',\n",
       "  '81143 hsswswtq.rjw',\n",
       "  '54843 mjvvfsz.rgz',\n",
       "  '273051 pfwgtmtt.ccs'],\n",
       " ['$ cd zzswd', '$ ls', '216062 vlbwz.zmh'],\n",
       " ['$ cd pttnl', '$ ls', '257733 mljfb.ggb', '250887 pfwgtmtt.ccs'],\n",
       " ['$ cd qdtbvqjj', '$ ls', '34667 gcwcp'],\n",
       " ['$ cd vst', '$ ls', '70250 pfwgtmtt.ccs', 'dir zpcqhml'],\n",
       " ['$ cd zpcqhml', '$ ls', '219936 jdfwmhg.zbm'],\n",
       " ['$ cd sjw',\n",
       "  '$ ls',\n",
       "  '152311 nqjtvzff',\n",
       "  '157117 pfwgtmtt.ccs',\n",
       "  '118226 ptsd.vsm'],\n",
       " ['$ cd zpfdtl', '$ ls', '189042 gcwcp'],\n",
       " ['$ cd qdtbvqjj',\n",
       "  '$ ls',\n",
       "  'dir ftz',\n",
       "  'dir hvlffb',\n",
       "  'dir lzbb',\n",
       "  '53335 ptsd',\n",
       "  'dir qdtbvqjj'],\n",
       " ['$ cd ftz',\n",
       "  '$ ls',\n",
       "  'dir fft',\n",
       "  '256058 gcwcp',\n",
       "  '497 hsswswtq.vqs',\n",
       "  '103941 hvtcz.fsg',\n",
       "  '171587 ljlnz.ffg',\n",
       "  '115101 mljfb.ggb',\n",
       "  'dir qdtbvqjj'],\n",
       " ['$ cd fft', '$ ls', '58845 bwtbht.dwq', '136040 gcwcp', '256973 mljfb.ggb'],\n",
       " ['$ cd qdtbvqjj', '$ ls', 'dir fgqhdh', '304573 ntm.wmc'],\n",
       " ['$ cd fgqhdh', '$ ls', '317143 gcwcp', '26010 lsfpfdqz'],\n",
       " ['$ cd hvlffb', '$ ls', '6682 vjt.mcf'],\n",
       " ['$ cd lzbb',\n",
       "  '$ ls',\n",
       "  'dir bbvml',\n",
       "  '324162 bwtbht.dwq',\n",
       "  'dir fjs',\n",
       "  'dir pffntc',\n",
       "  'dir pnltt',\n",
       "  'dir ptsd'],\n",
       " ['$ cd bbvml', '$ ls', 'dir qdtbvqjj', 'dir qssdcrp', 'dir tssm'],\n",
       " ['$ cd qdtbvqjj', '$ ls', '246275 qdtbvqjj.cgn'],\n",
       " ['$ cd qssdcrp', '$ ls', '274399 hsswswtq'],\n",
       " ['$ cd tssm', '$ ls', 'dir ssqc'],\n",
       " ['$ cd ssqc', '$ ls', '178904 njrssmlm.gcm'],\n",
       " ['$ cd fjs',\n",
       "  '$ ls',\n",
       "  'dir dmvnp',\n",
       "  '121967 fqlzlvwt',\n",
       "  '204348 grbwdwsm.znn',\n",
       "  '102733 jdfwmhg.qsl',\n",
       "  '240279 ptsd.jwm',\n",
       "  '228793 ptsd.nsh',\n",
       "  'dir ssm'],\n",
       " ['$ cd dmvnp', '$ ls', 'dir psj', 'dir zjw'],\n",
       " ['$ cd psj', '$ ls', '170665 gcwcp', '56058 lsfzc.dcp', '40658 tfsllqqw.fgv'],\n",
       " ['$ cd zjw', '$ ls', '79989 fggsl.dmz'],\n",
       " ['$ cd ssm',\n",
       "  '$ ls',\n",
       "  '106263 bwtbht.dwq',\n",
       "  '106259 jdfwmhg.qtb',\n",
       "  '6246 rwbnr.tqv'],\n",
       " ['$ cd pffntc', '$ ls', '111475 qbmrdms.ldm'],\n",
       " ['$ cd pnltt', '$ ls', 'dir nptfhlf', 'dir zngmf'],\n",
       " ['$ cd nptfhlf', '$ ls', '223065 qrb.drh', '205674 rdgfz'],\n",
       " ['$ cd zngmf', '$ ls', '61655 bwtbht.dwq'],\n",
       " ['$ cd ptsd', '$ ls', 'dir hrvrt', 'dir thwtl'],\n",
       " ['$ cd hrvrt', '$ ls', '152296 pfwgtmtt.ccs'],\n",
       " ['$ cd thwtl', '$ ls', '156783 pfwgtmtt.ccs', '323304 sltc'],\n",
       " ['$ cd qdtbvqjj', '$ ls', '320175 pfwgtmtt.ccs'],\n",
       " ['$ cd jtgdv', '$ ls', '81164 ptsd.tpj'],\n",
       " ['$ cd vcbqdj',\n",
       "  '$ ls',\n",
       "  'dir crng',\n",
       "  '330203 gvlrg',\n",
       "  '152022 qdtbvqjj.slq',\n",
       "  '294095 rthwj.zrf',\n",
       "  'dir vjsbf'],\n",
       " ['$ cd crng', '$ ls', 'dir gznrh'],\n",
       " ['$ cd gznrh', '$ ls', '259458 ptsd'],\n",
       " ['$ cd vjsbf', '$ ls', '47331 hlld.fzf', '147103 jdfwmhg'],\n",
       " ['$ cd wtrsg', '$ ls', '144344 dtcc'],\n",
       " ['$ cd jdfwmhg', '$ ls', '323973 qdtbvqjj'],\n",
       " ['$ cd jlcbpsr',\n",
       "  '$ ls',\n",
       "  'dir htrdwm',\n",
       "  'dir jdfwmhg',\n",
       "  'dir pwmvbhsl',\n",
       "  'dir vwfdfmcp'],\n",
       " ['$ cd htrdwm',\n",
       "  '$ ls',\n",
       "  'dir btn',\n",
       "  '105731 dlncqrbm.dgl',\n",
       "  '158267 gqqghldt',\n",
       "  '242513 hsswswtq.drj',\n",
       "  'dir jdfwmhg',\n",
       "  '212816 swsgtv.wbb',\n",
       "  '228996 tgll.rcs'],\n",
       " ['$ cd btn', '$ ls', '50419 pfwgtmtt.ccs'],\n",
       " ['$ cd jdfwmhg', '$ ls', 'dir bwc'],\n",
       " ['$ cd bwc', '$ ls', '184634 cfwg'],\n",
       " ['$ cd jdfwmhg',\n",
       "  '$ ls',\n",
       "  '319749 hsswswtq',\n",
       "  'dir jdfwmhg',\n",
       "  '271619 jdfwmhg.znz',\n",
       "  'dir jhmmt',\n",
       "  '181217 mljfb.ggb',\n",
       "  '11297 rcpl.tgf',\n",
       "  '83423 zwscbcvm.ths'],\n",
       " ['$ cd jdfwmhg', '$ ls', '267171 cts.hlf'],\n",
       " ['$ cd jhmmt', '$ ls', '84473 jdfwmhg'],\n",
       " ['$ cd pwmvbhsl',\n",
       "  '$ ls',\n",
       "  'dir jsg',\n",
       "  '171725 mljfb.ggb',\n",
       "  '152612 qjr',\n",
       "  'dir vfsqw'],\n",
       " ['$ cd jsg',\n",
       "  '$ ls',\n",
       "  '176951 jdfwmhg.fhn',\n",
       "  '284927 ljvvtw.wcq',\n",
       "  '153109 vnvtt'],\n",
       " ['$ cd vfsqw', '$ ls', '104559 htsrns.gws'],\n",
       " ['$ cd vwfdfmcp', '$ ls', '291404 csmvbjlt.tdf'],\n",
       " ['$ cd tvcr',\n",
       "  '$ ls',\n",
       "  'dir djtwv',\n",
       "  'dir hsswswtq',\n",
       "  '272845 mdds',\n",
       "  'dir ndshbjzn',\n",
       "  '65929 scpltww.twm',\n",
       "  'dir tssm',\n",
       "  '30516 zdpscm',\n",
       "  'dir zqdrdzv'],\n",
       " ['$ cd djtwv', '$ ls', '271696 cwjj.hjp'],\n",
       " ['$ cd hsswswtq', '$ ls', 'dir djngm', 'dir hcz', 'dir ptsd'],\n",
       " ['$ cd djngm', '$ ls', '317775 ltwjzpjb.rcj', '37776 qdtbvqjj.lzf'],\n",
       " ['$ cd hcz', '$ ls', '217741 pgdmr', '128868 qdtbvqjj', '306138 zbmrplsn'],\n",
       " ['$ cd ptsd', '$ ls', '304048 ftm', '120236 mdcwvvng'],\n",
       " ['$ cd ndshbjzn', '$ ls', '206408 pfwgtmtt.ccs'],\n",
       " ['$ cd tssm',\n",
       "  '$ ls',\n",
       "  'dir mlcnsf',\n",
       "  'dir nbgjm',\n",
       "  '204079 pdljvb',\n",
       "  '185465 rqgdmbjf.rhr',\n",
       "  'dir sfnlb'],\n",
       " ['$ cd mlcnsf', '$ ls', '249868 fqrncwd', '29146 zdz.jth'],\n",
       " ['$ cd nbgjm', '$ ls', '113314 mljfb.ggb'],\n",
       " ['$ cd sfnlb', '$ ls', '234917 tjp'],\n",
       " ['$ cd zqdrdzv', '$ ls', '40790 vtdnhzm'],\n",
       " ['$ cd vhjbjr', '$ ls', 'dir glv', 'dir mvns', 'dir qbrnh'],\n",
       " ['$ cd glv', '$ ls', '288849 bgvqll.sfj', '259105 jdfwmhg', 'dir qcjlshcv'],\n",
       " ['$ cd qcjlshcv', '$ ls', 'dir nwqqjcmh'],\n",
       " ['$ cd nwqqjcmh',\n",
       "  '$ ls',\n",
       "  '137244 grbwdwsm.znn',\n",
       "  '312904 mzh',\n",
       "  'dir qdtbvqjj'],\n",
       " ['$ cd qdtbvqjj', '$ ls', 'dir nlqbq'],\n",
       " ['$ cd nlqbq', '$ ls', '307636 ptsd.vtr'],\n",
       " ['$ cd mvns', '$ ls', 'dir gzqlmrdh', 'dir qjhtlh', 'dir tssm', 'dir vthg'],\n",
       " ['$ cd gzqlmrdh', '$ ls', '274950 mlzdqwm'],\n",
       " ['$ cd qjhtlh', '$ ls', '157835 ptsd.lqm', '300380 wst.trp'],\n",
       " ['$ cd tssm', '$ ls', '15772 gcwcp'],\n",
       " ['$ cd vthg', '$ ls', 'dir gdndtlnc'],\n",
       " ['$ cd gdndtlnc',\n",
       "  '$ ls',\n",
       "  '3175 hsswswtq.bds',\n",
       "  '320462 mljfb.ggb',\n",
       "  '305508 mzvtzvqc',\n",
       "  'dir qdtbvqjj',\n",
       "  '154575 tssm.vgb'],\n",
       " ['$ cd qdtbvqjj', '$ ls', '236889 drnnvh'],\n",
       " ['$ cd qbrnh',\n",
       "  '$ ls',\n",
       "  'dir hsswswtq',\n",
       "  '4623 hsswswtq.rnf',\n",
       "  '266326 jrmq.ztg',\n",
       "  '295980 tssm.vzb',\n",
       "  'dir wnbfzd',\n",
       "  'dir zjzhncs',\n",
       "  'dir zttlggt'],\n",
       " ['$ cd hsswswtq', '$ ls', '48277 gsqjdbhv'],\n",
       " ['$ cd wnbfzd', '$ ls', '97133 mljfb.ggb'],\n",
       " ['$ cd zjzhncs', '$ ls', '298303 gcwcp', 'dir ggr', '113206 grbwdwsm.znn'],\n",
       " ['$ cd ggr', '$ ls', '244876 ptsd.zvb'],\n",
       " ['$ cd zttlggt',\n",
       "  '$ ls',\n",
       "  'dir hdbwrcm',\n",
       "  'dir mbvpd',\n",
       "  'dir mtd',\n",
       "  'dir ptsd',\n",
       "  'dir tcwqp'],\n",
       " ['$ cd hdbwrcm', '$ ls', '267323 bwtbht.dwq'],\n",
       " ['$ cd mbvpd', '$ ls', '84087 frf.smv'],\n",
       " ['$ cd mtd', '$ ls', '158543 mljfb.ggb'],\n",
       " ['$ cd ptsd', '$ ls', '112797 vtschwnb.fnp'],\n",
       " ['$ cd tcwqp', '$ ls', '90637 lbsqcj.sfn', '179097 tssm.dbl'],\n",
       " ['$ cd vvsg',\n",
       "  '$ ls',\n",
       "  '168715 bwtbht.dwq',\n",
       "  'dir bwv',\n",
       "  'dir hsswswtq',\n",
       "  'dir lqmnjrlb',\n",
       "  'dir mmrfrj',\n",
       "  '175244 vct.tsc',\n",
       "  'dir zwvlhs'],\n",
       " ['$ cd bwv',\n",
       "  '$ ls',\n",
       "  '201509 gcwcp',\n",
       "  '62815 grbwdwsm.znn',\n",
       "  'dir gwdh',\n",
       "  'dir mfdvcn',\n",
       "  '166355 pfwgtmtt.ccs',\n",
       "  'dir ptsd',\n",
       "  '169681 qdtbvqjj.fgh',\n",
       "  '250573 wvndzgv'],\n",
       " ['$ cd gwdh', '$ ls', '306377 sphrj.pjh'],\n",
       " ['$ cd mfdvcn',\n",
       "  '$ ls',\n",
       "  '27796 bvclvtrm.jlf',\n",
       "  '65045 cghr.vzg',\n",
       "  'dir hsswswtq',\n",
       "  '197145 jdqztgh.pvd'],\n",
       " ['$ cd hsswswtq', '$ ls', '298155 bwtbht.dwq'],\n",
       " ['$ cd ptsd',\n",
       "  '$ ls',\n",
       "  '27501 grbwdwsm.znn',\n",
       "  '231999 jdnsv',\n",
       "  '113528 rmfmb.zzw',\n",
       "  'dir tssm',\n",
       "  'dir vgjfsh'],\n",
       " ['$ cd tssm', '$ ls', 'dir dndv', '226375 grbwdwsm.znn'],\n",
       " ['$ cd dndv', '$ ls', '152739 sdjrzcv.tvs'],\n",
       " ['$ cd vgjfsh', '$ ls', '211409 swtbttb.vrp', '170879 vvfnf.hrp'],\n",
       " ['$ cd hsswswtq', '$ ls', 'dir qdtbvqjj', 'dir tssm', '86418 vhsgq'],\n",
       " ['$ cd qdtbvqjj', '$ ls', '118588 bwtbht.dwq'],\n",
       " ['$ cd tssm', '$ ls', '113460 gml.wdg'],\n",
       " ['$ cd lqmnjrlb', '$ ls', 'dir tssm'],\n",
       " ['$ cd tssm', '$ ls', 'dir jdfwmhg'],\n",
       " ['$ cd jdfwmhg', '$ ls', '64663 nswd.rwc'],\n",
       " ['$ cd mmrfrj',\n",
       "  '$ ls',\n",
       "  '319070 gltlwnlt.jzw',\n",
       "  '232039 hspr',\n",
       "  '104688 hsswswtq.jsr',\n",
       "  'dir jdfwmhg',\n",
       "  '88712 jdfwmhg.zcw',\n",
       "  'dir pfr',\n",
       "  'dir prnnpwcd',\n",
       "  '45488 qdtbvqjj',\n",
       "  'dir tssm',\n",
       "  'dir wcmwrtjn'],\n",
       " ['$ cd jdfwmhg', '$ ls', '140910 bjjhtzct.stm'],\n",
       " ['$ cd pfr', '$ ls', '289538 qdtbvqjj', '217502 vvpwf'],\n",
       " ['$ cd prnnpwcd', '$ ls', 'dir qdtbvqjj'],\n",
       " ['$ cd qdtbvqjj', '$ ls', 'dir pqg', 'dir tssm'],\n",
       " ['$ cd pqg', '$ ls', '222392 ptsd.ggr'],\n",
       " ['$ cd tssm',\n",
       "  '$ ls',\n",
       "  '158252 dcnvjj.zfd',\n",
       "  '10486 jdfwmhg.qmb',\n",
       "  '4374 qdtbvqjj.vqm',\n",
       "  '254229 vgqfw'],\n",
       " ['$ cd tssm', '$ ls', 'dir ptsd'],\n",
       " ['$ cd ptsd', '$ ls', '173766 fvlsgqb', '35658 wtc.vvd'],\n",
       " ['$ cd wcmwrtjn',\n",
       "  '$ ls',\n",
       "  '160089 chfhpc',\n",
       "  '76202 frgpdnd.ngw',\n",
       "  '138996 jsfsfpqg.nhf',\n",
       "  'dir mlm',\n",
       "  'dir nbdbzsn',\n",
       "  'dir ptsd',\n",
       "  '278574 vrnb'],\n",
       " ['$ cd mlm', '$ ls', 'dir gqwhhmvd', 'dir nrzvzgrt', 'dir nzplht', 'dir zzp'],\n",
       " ['$ cd gqwhhmvd', '$ ls', 'dir ddmvjpj', 'dir jdfwmhg'],\n",
       " ['$ cd ddmvjpj', '$ ls', '273423 jdfwmhg', '43605 pfwgtmtt.ccs'],\n",
       " ['$ cd jdfwmhg', '$ ls', '239406 qctw.vzb'],\n",
       " ['$ cd nrzvzgrt',\n",
       "  '$ ls',\n",
       "  '20712 gcwcp',\n",
       "  '239372 gjgdvbwb.gcz',\n",
       "  'dir hdzhl',\n",
       "  '124814 jdfwmhg',\n",
       "  'dir jfzr',\n",
       "  '295071 qwjgwqp',\n",
       "  '221611 shrzpsj.dwh',\n",
       "  'dir tssm',\n",
       "  'dir wdlsvzvl'],\n",
       " ['$ cd hdzhl',\n",
       "  '$ ls',\n",
       "  'dir gfwbd',\n",
       "  '184323 hsswswtq.mln',\n",
       "  '177147 nqgqz.tnf',\n",
       "  '4680 pfwgtmtt.ccs'],\n",
       " ['$ cd gfwbd', '$ ls', '254870 cldm.fft', '301411 tssm.cvn'],\n",
       " ['$ cd jfzr',\n",
       "  '$ ls',\n",
       "  'dir dvvflnnw',\n",
       "  'dir jdfwmhg',\n",
       "  '216389 lwtwn.ttt',\n",
       "  '201727 pfwgtmtt.ccs',\n",
       "  '107829 prphc.ncb',\n",
       "  '5816 sdvq.jvn'],\n",
       " ['$ cd dvvflnnw', '$ ls', '24741 brtrbwh.wwd', '27700 mljfb.ggb'],\n",
       " ['$ cd jdfwmhg',\n",
       "  '$ ls',\n",
       "  '325218 bwtbht.dwq',\n",
       "  '63718 mvl.ngz',\n",
       "  '162645 vtd.vgp'],\n",
       " ['$ cd tssm', '$ ls', '60903 pfwgtmtt.ccs', '332768 qdtbvqjj.jwb'],\n",
       " ['$ cd wdlsvzvl', '$ ls', '142213 vgvd'],\n",
       " ['$ cd nzplht',\n",
       "  '$ ls',\n",
       "  '275904 hsswswtq',\n",
       "  '157369 jdfwmhg',\n",
       "  '84363 jvcvmbm.fht',\n",
       "  'dir qbjqgg'],\n",
       " ['$ cd qbjqgg', '$ ls', '331934 gcwcp'],\n",
       " ['$ cd zzp', '$ ls', '151335 flsd.zmj', 'dir gwlhqlp', '99086 jdfwmhg.hft'],\n",
       " ['$ cd gwlhqlp', '$ ls', '201894 glcnpqzp.jvc'],\n",
       " ['$ cd nbdbzsn', '$ ls', '169929 bwtbht.dwq'],\n",
       " ['$ cd ptsd',\n",
       "  '$ ls',\n",
       "  '128999 bwtbht.dwq',\n",
       "  'dir jtlrn',\n",
       "  'dir pszlt',\n",
       "  'dir ptjnh',\n",
       "  'dir ptsd',\n",
       "  '2981 qdtbvqjj.qcn',\n",
       "  'dir rpb',\n",
       "  'dir tcjgpqj',\n",
       "  'dir tmddnh',\n",
       "  'dir tssm'],\n",
       " ['$ cd jtlrn', '$ ls', '124888 grbwdwsm.znn', '30046 jznz.dwf'],\n",
       " ['$ cd pszlt', '$ ls', '154368 dbblsg.mzr'],\n",
       " ['$ cd ptjnh', '$ ls', '306974 grbwdwsm.znn', '82840 ptsd'],\n",
       " ['$ cd ptsd',\n",
       "  '$ ls',\n",
       "  'dir ftjhsb',\n",
       "  'dir jdfwmhg',\n",
       "  '304012 lqgtvmrl.qbj',\n",
       "  '96971 mljfb.ggb'],\n",
       " ['$ cd ftjhsb', '$ ls', '56965 dhgds'],\n",
       " ['$ cd jdfwmhg', '$ ls', 'dir lssbmtms', 'dir vmwshd'],\n",
       " ['$ cd lssbmtms',\n",
       "  '$ ls',\n",
       "  '95453 gcwcp',\n",
       "  '198402 mljfb.ggb',\n",
       "  '1507 mzlmp',\n",
       "  '40526 twlqhml'],\n",
       " ['$ cd vmwshd', '$ ls', '267087 pfwgtmtt.ccs'],\n",
       " ['$ cd rpb', '$ ls', 'dir lqbchlbp', 'dir ptsd'],\n",
       " ['$ cd lqbchlbp', '$ ls', '151429 ptsd.tjz'],\n",
       " ['$ cd ptsd', '$ ls', '28900 gcwcp', '55920 llt'],\n",
       " ['$ cd tcjgpqj',\n",
       "  '$ ls',\n",
       "  'dir cvdlcvq',\n",
       "  '329232 hcmj.nvp',\n",
       "  '232764 nvtmgc.qgs',\n",
       "  '108056 ptsd.gcn',\n",
       "  '39056 qdtbvqjj',\n",
       "  '91792 tssm.wqz'],\n",
       " ['$ cd cvdlcvq', '$ ls', '46978 grbwdwsm.znn', '17760 qrdbsdpj.dhm'],\n",
       " ['$ cd tmddnh', '$ ls', '238434 gggvq.tfc'],\n",
       " ['$ cd tssm', '$ ls', 'dir tlllv'],\n",
       " ['$ cd tlllv', '$ ls', '198184 trmf.qqw'],\n",
       " ['$ cd zwvlhs',\n",
       "  '$ ls',\n",
       "  '19923 gcwcp',\n",
       "  '129179 grbwdwsm.znn',\n",
       "  '214660 pghcvh',\n",
       "  '101270 ptsd.gzl',\n",
       "  'dir srjlz'],\n",
       " ['$ cd srjlz', '$ ls', '221301 nrcg.pqw']]"
      ]
     },
     "execution_count": 9,
     "metadata": {},
     "output_type": "execute_result"
    }
   ],
   "source": [
    "[y for y in x if for x in directories if "
   ]
  },
  {
   "cell_type": "code",
   "execution_count": null,
   "id": "63d5c4cd-1503-49c9-b022-ec716eee091b",
   "metadata": {},
   "outputs": [],
   "source": []
  }
 ],
 "metadata": {
  "kernelspec": {
   "display_name": "Python 3 (ipykernel)",
   "language": "python",
   "name": "python3"
  },
  "language_info": {
   "codemirror_mode": {
    "name": "ipython",
    "version": 3
   },
   "file_extension": ".py",
   "mimetype": "text/x-python",
   "name": "python",
   "nbconvert_exporter": "python",
   "pygments_lexer": "ipython3",
   "version": "3.11.5"
  }
 },
 "nbformat": 4,
 "nbformat_minor": 5
}
